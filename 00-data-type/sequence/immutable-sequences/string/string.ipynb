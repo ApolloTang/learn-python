{
 "cells": [
  {
   "cell_type": "markdown",
   "id": "e69294e8",
   "metadata": {},
   "source": [
    "# Sequences\n",
    "\n",
    "There are 4 basic sequence types:\n",
    "- string\n",
    "- range\n",
    "- lists\n",
    "- tuples\n",
    "\n"
   ]
  },
  {
   "cell_type": "markdown",
   "id": "53a8d3a1",
   "metadata": {},
   "source": [
    "## String\n",
    "\n",
    "- A sequence of characters.\n",
    "- A Sting in python is immutable. \n",
    "- It is also called `str`.\n",
    "\n",
    "Syntax: \n",
    "- Uses single, double or triple quotes as enclosure. "
   ]
  },
  {
   "cell_type": "markdown",
   "id": "293b6676",
   "metadata": {},
   "source": [
    "### Triple quotes\n",
    "Notice that triple quotes take empty space and new line into account."
   ]
  },
  {
   "cell_type": "code",
   "execution_count": 2,
   "id": "841908be",
   "metadata": {},
   "outputs": [
    {
     "name": "stdout",
     "output_type": "stream",
     "text": [
      "multiline \n",
      "       String\n"
     ]
    }
   ],
   "source": [
    "tripleQuotedStr = \"\"\"multiline \n",
    "       String\"\"\"\n",
    "print(tripleQuotedStr)"
   ]
  },
  {
   "cell_type": "markdown",
   "id": "1d45d445",
   "metadata": {},
   "source": [
    "Without the triple quote this is what you have to do to achive the above:"
   ]
  },
  {
   "cell_type": "code",
   "execution_count": 3,
   "id": "4a19668d",
   "metadata": {},
   "outputs": [
    {
     "name": "stdout",
     "output_type": "stream",
     "text": [
      "multiline \n",
      "     String\n"
     ]
    }
   ],
   "source": [
    "doubleQuotedStr = \"multiline \\n \\\n",
    "    String\"\n",
    "print(doubleQuotedStr)"
   ]
  },
  {
   "cell_type": "markdown",
   "id": "01a5a66a",
   "metadata": {},
   "source": [
    "Otherwise you will get errors:"
   ]
  },
  {
   "cell_type": "code",
   "execution_count": 4,
   "id": "7876b5f0",
   "metadata": {},
   "outputs": [
    {
     "ename": "SyntaxError",
     "evalue": "unterminated string literal (detected at line 1) (1683217430.py, line 1)",
     "output_type": "error",
     "traceback": [
      "\u001b[0;36m  Cell \u001b[0;32mIn [4], line 1\u001b[0;36m\u001b[0m\n\u001b[0;31m    doubleQuotedStr = \"multiline\u001b[0m\n\u001b[0m                      ^\u001b[0m\n\u001b[0;31mSyntaxError\u001b[0m\u001b[0;31m:\u001b[0m unterminated string literal (detected at line 1)\n"
     ]
    }
   ],
   "source": [
    "doubleQuotedStr = \"multiline \n",
    "       String\"\n",
    "print(doubleQuotedStr)"
   ]
  },
  {
   "cell_type": "markdown",
   "id": "8882a48a",
   "metadata": {},
   "source": [
    "Note that instead of using double quote to write tripple quote we can also use single quote."
   ]
  },
  {
   "cell_type": "code",
   "execution_count": null,
   "id": "12d0e17c",
   "metadata": {},
   "outputs": [],
   "source": [
    "tripleQuotedStr = '''multiline \n",
    "       String'''\n",
    "print(tripleQuotedStr)"
   ]
  },
  {
   "cell_type": "markdown",
   "id": "d66692eb",
   "metadata": {},
   "source": [
    "### String operator\n",
    "\n",
    "#### Concatenatation\n"
   ]
  },
  {
   "cell_type": "code",
   "execution_count": null,
   "id": "deb9882f",
   "metadata": {},
   "outputs": [],
   "source": [
    "f = 'foo' \n",
    "s = 'bar'\n",
    "print(f + s)\n",
    "print('hello ' + 'world')"
   ]
  },
  {
   "cell_type": "markdown",
   "id": "27cdf1f7",
   "metadata": {},
   "source": [
    "#### String multiplier"
   ]
  },
  {
   "cell_type": "code",
   "execution_count": null,
   "id": "b7fef731",
   "metadata": {},
   "outputs": [],
   "source": [
    "st = 'data.'\n",
    "print(st * 3)"
   ]
  },
  {
   "cell_type": "markdown",
   "id": "d60016a4",
   "metadata": {},
   "source": [
    "String multiplier is commutative:"
   ]
  },
  {
   "cell_type": "code",
   "execution_count": null,
   "id": "c42ce0bd",
   "metadata": {},
   "outputs": [],
   "source": [
    "print((st * 3) == (3 * st))"
   ]
  }
 ],
 "metadata": {
  "kernelspec": {
   "display_name": ".venv",
   "language": "python",
   "name": "python3"
  },
  "language_info": {
   "codemirror_mode": {
    "name": "ipython",
    "version": 3
   },
   "file_extension": ".py",
   "mimetype": "text/x-python",
   "name": "python",
   "nbconvert_exporter": "python",
   "pygments_lexer": "ipython3",
   "version": "3.10.6"
  },
  "vscode": {
   "interpreter": {
    "hash": "4abfaecd96985626e3c043deb2580341eec6b392f4dfa54f7ece7e1ae34d5af3"
   }
  }
 },
 "nbformat": 4,
 "nbformat_minor": 5
}
