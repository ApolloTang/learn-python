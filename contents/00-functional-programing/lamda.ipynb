{
 "cells": [
  {
   "attachments": {},
   "cell_type": "markdown",
   "metadata": {},
   "source": [
    " Ref: [medium: Python Lambda λ for JS developer](https://elfi-y.medium.com/python-lambda-%CE%BB-6c62a5427913)\n",
    " \n",
    "- Always write non-complicated lambda functions.\n",
    "- Can only have one expression in their body.\n",
    "- Can’t contain any statements such as return, pass, assert, or raise .\n",
    "- Anonymous.\n",
    "- At the byte-code level, lambdas are same as normal functions.\n",
    "\n"
   ]
  },
  {
   "attachments": {},
   "cell_type": "markdown",
   "metadata": {},
   "source": [
    "To read:\n",
    "https://realpython.com/python-lambda/"
   ]
  }
 ],
 "metadata": {
  "kernelspec": {
   "display_name": ".venv",
   "language": "python",
   "name": "python3"
  },
  "language_info": {
   "name": "python",
   "version": "3.10.8 (main, Oct 13 2022, 10:17:43) [Clang 14.0.0 (clang-1400.0.29.102)]"
  },
  "orig_nbformat": 4,
  "vscode": {
   "interpreter": {
    "hash": "724117ccc7a3d593d1d63c5cebd1b2308cd0301134731f7708559b60ab16fbd1"
   }
  }
 },
 "nbformat": 4,
 "nbformat_minor": 2
}
