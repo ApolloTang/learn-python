{
 "cells": [
  {
   "cell_type": "markdown",
   "metadata": {},
   "source": [
    "# Commenting python code\n",
    "\n",
    "## Multiline comments\n",
    "\n",
    "In Python, multiline comments begin and end with `'''`:"
   ]
  },
  {
   "cell_type": "code",
   "execution_count": 10,
   "metadata": {},
   "outputs": [
    {
     "name": "stdout",
     "output_type": "stream",
     "text": [
      "The above is a multiline comments\n"
     ]
    }
   ],
   "source": [
    "'''\n",
    "    This is a multiline comments\n",
    "    This is a multiline comments\n",
    "    This is a multiline comments\n",
    "    This is a multiline comments\n",
    "'''\n",
    "print(\"The above is a multiline comments\")"
   ]
  },
  {
   "cell_type": "markdown",
   "metadata": {},
   "source": [
    "## Single-line comment\n",
    "\n",
    "Single-line comments begin with `#`."
   ]
  },
  {
   "cell_type": "code",
   "execution_count": 11,
   "metadata": {},
   "outputs": [
    {
     "name": "stdout",
     "output_type": "stream",
     "text": [
      "The above is a simgle-line comments\n"
     ]
    }
   ],
   "source": [
    "# This is a single-line comments\n",
    "print(\"The above is a simgle-line comments\")"
   ]
  },
  {
   "cell_type": "markdown",
   "metadata": {},
   "source": [
    "## Inline comment\n",
    "\n",
    "Here is an example of inline comment:"
   ]
  },
  {
   "cell_type": "code",
   "execution_count": 12,
   "metadata": {},
   "outputs": [
    {
     "name": "stdout",
     "output_type": "stream",
     "text": [
      "Here is an example of inline comments\n"
     ]
    }
   ],
   "source": [
    "print(\"Here is an example of inline comments\")  # This is an inline comments"
   ]
  }
 ],
 "metadata": {
  "kernelspec": {
   "display_name": "Python 3 (ipykernel)",
   "language": "python",
   "name": "python3"
  },
  "language_info": {
   "codemirror_mode": {
    "name": "ipython",
    "version": 3
   },
   "file_extension": ".py",
   "mimetype": "text/x-python",
   "name": "python",
   "nbconvert_exporter": "python",
   "pygments_lexer": "ipython3",
   "version": "3.12.3"
  },
  "vscode": {
   "interpreter": {
    "hash": "1898f185a62b11289750958cf9ff3a43c3ead777e1bf5c3487802ddf9d905964"
   }
  }
 },
 "nbformat": 4,
 "nbformat_minor": 4
}
