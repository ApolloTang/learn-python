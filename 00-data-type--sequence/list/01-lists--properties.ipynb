{
 "cells": [
  {
   "attachments": {},
   "cell_type": "markdown",
   "id": "77f0221d",
   "metadata": {},
   "source": [
    "# Lists, their properties\n",
    "\n",
    "- Store multiple items in a single variable.\n",
    "- Often used in `for` and `while` loops.\n",
    "\n",
    "Syntax: \n",
    "- Uses square brackets `[]` as enclosure. \n",
    "- Item are separated by comma. \n",
    "- Trailing comma are allow in list: `[1,2,3,]`.\n",
    "\n",
    "Features:\n",
    "- Lists are ordered.\n",
    "- Starting index is 0.\n",
    "- Items are accessible via index.\n",
    "- Items value are mutable.\n",
    "  - Being mutable means items are dynamic: \n",
    "    - They can grow or shrink: added, deleted \n",
    "    - They can be relocated: shift, unshift.\n",
    "- Duplicate values are allowed.\n",
    "- Items does not have to be of the same type."
   ]
  },
  {
   "cell_type": "markdown",
   "id": "32272036",
   "metadata": {},
   "source": [
    "## Lists are ordered"
   ]
  },
  {
   "cell_type": "code",
   "execution_count": 1,
   "id": "55ebd3e6",
   "metadata": {},
   "outputs": [],
   "source": [
    "# This two list are not the identical.\n",
    "# Although they contain same elements, but \n",
    "# their ordered (possition, or index) differ.\n",
    "assert ([10,11] != [11,10])  "
   ]
  },
  {
   "cell_type": "markdown",
   "id": "cb15458e",
   "metadata": {},
   "source": [
    "## Starting index is 0"
   ]
  },
  {
   "cell_type": "code",
   "execution_count": null,
   "id": "2d7c05ea",
   "metadata": {},
   "outputs": [
    {
     "name": "stdout",
     "output_type": "stream",
     "text": [
      "0\n"
     ]
    }
   ],
   "source": [
    "myList = ['zero', 'one', 'two']\n",
    "index = myList.index('zero')\n",
    "print(index)"
   ]
  },
  {
   "cell_type": "markdown",
   "id": "24761aa2",
   "metadata": {},
   "source": [
    "## Items are accessible via index"
   ]
  },
  {
   "cell_type": "code",
   "execution_count": null,
   "id": "3f87ae50",
   "metadata": {},
   "outputs": [
    {
     "name": "stdout",
     "output_type": "stream",
     "text": [
      "food bus apple queen\n"
     ]
    }
   ],
   "source": [
    "stuff = ['food', 'bus', 'apple', 'queen']\n",
    "print(stuff[0], stuff[1], stuff[2], stuff[3])"
   ]
  },
  {
   "cell_type": "markdown",
   "id": "9f0440de",
   "metadata": {},
   "source": [
    "## Lists are dynamic"
   ]
  },
  {
   "cell_type": "markdown",
   "id": "6111a8bd",
   "metadata": {},
   "source": [
    "Append an item to next index:"
   ]
  },
  {
   "cell_type": "code",
   "execution_count": 18,
   "id": "5fd0de94",
   "metadata": {},
   "outputs": [
    {
     "name": "stdout",
     "output_type": "stream",
     "text": [
      "[0, 10, 20, 30, 40, 50]\n",
      "[0, 10, 20, 30, 40, 50, 60]\n"
     ]
    }
   ],
   "source": [
    "a = [0, 10, 20, 30, 40, 50]\n",
    "print(a)\n",
    "a += [60]\n",
    "print(a)"
   ]
  },
  {
   "cell_type": "markdown",
   "id": "83dbdffb",
   "metadata": {},
   "source": [
    "Delete index 1\n"
   ]
  },
  {
   "cell_type": "code",
   "execution_count": 24,
   "id": "26833ec0",
   "metadata": {},
   "outputs": [
    {
     "name": "stdout",
     "output_type": "stream",
     "text": [
      "[0, 10, 20, 30, 40, 50, 60]\n",
      "[0, 20, 30, 40, 50, 60]\n"
     ]
    }
   ],
   "source": [
    "a = [0, 10, 20, 30, 40, 50, 60]\n",
    "print(a)\n",
    "del a[1]\n",
    "print(a)"
   ]
  },
  {
   "cell_type": "markdown",
   "id": "278f82c8",
   "metadata": {},
   "source": [
    "Sclice out item from index `3` to index `5-1`.\n",
    "\n",
    "Note that it is written as `[3:5]`, meaning from index `3` to index `5`, include `3` but exclude `5`."
   ]
  },
  {
   "cell_type": "code",
   "execution_count": 22,
   "id": "b9d75647",
   "metadata": {},
   "outputs": [
    {
     "name": "stdout",
     "output_type": "stream",
     "text": [
      "[0, 10, 20, 30, 40, 50, 60]\n",
      "[0, 10, 20, 50, 60]\n"
     ]
    }
   ],
   "source": [
    "b = [0, 10, 20, 30, 40, 50, 60]\n",
    "print(b)\n",
    "b[3:5] = []\n",
    "print(b)"
   ]
  },
  {
   "cell_type": "markdown",
   "id": "6a94c9b2",
   "metadata": {},
   "source": [
    "### Duplicated value are allow"
   ]
  },
  {
   "cell_type": "code",
   "execution_count": 23,
   "id": "eee57d21",
   "metadata": {},
   "outputs": [
    {
     "name": "stdout",
     "output_type": "stream",
     "text": [
      "[0, 0, 0, 0]\n"
     ]
    }
   ],
   "source": [
    "c = [0, 0, 0, 0]\n",
    "print(c)"
   ]
  }
 ],
 "metadata": {
  "kernelspec": {
   "display_name": "Python 3.10.8 ('.venv': pipenv)",
   "language": "python",
   "name": "python3"
  },
  "language_info": {
   "codemirror_mode": {
    "name": "ipython",
    "version": 3
   },
   "file_extension": ".py",
   "mimetype": "text/x-python",
   "name": "python",
   "nbconvert_exporter": "python",
   "pygments_lexer": "ipython3",
   "version": "3.10.8 (main, Oct 13 2022, 10:17:43) [Clang 14.0.0 (clang-1400.0.29.102)]"
  },
  "vscode": {
   "interpreter": {
    "hash": "724117ccc7a3d593d1d63c5cebd1b2308cd0301134731f7708559b60ab16fbd1"
   }
  }
 },
 "nbformat": 4,
 "nbformat_minor": 5
}
