{
 "cells": [
  {
   "cell_type": "markdown",
   "id": "77f0221d",
   "metadata": {},
   "source": [
    "# Lists\n",
    "\n",
    "- Store multiple items in a single variable.\n",
    "- Often used in `for` and `while` loops.\n",
    "\n",
    "Syntax: \n",
    "- use square brackets `[]` as enclosure. \n",
    "- item are separated by comma. \n",
    "- trailing comma ?\n",
    "\n",
    "Features:\n",
    "- Lists are ordered\n",
    "- Starting index is 0.\n",
    "- Items are accessible via index.\n",
    "- items value are mutable.\n",
    "  - Being mutable means items are dynamic : \n",
    "    - they can grow or shrink: added, deleted, \n",
    "    - they can be relocated: shift, unshift\n",
    "- Duplicate values are allowed.\n",
    "- Items does not be same type."
   ]
  },
  {
   "cell_type": "markdown",
   "id": "32272036",
   "metadata": {},
   "source": [
    "## Lists are ordered"
   ]
  },
  {
   "cell_type": "code",
   "execution_count": 17,
   "id": "55ebd3e6",
   "metadata": {},
   "outputs": [
    {
     "ename": "AssertionError",
     "evalue": "two list are the identical",
     "output_type": "error",
     "traceback": [
      "\u001b[0;31m---------------------------------------------------------------------------\u001b[0m",
      "\u001b[0;31mAssertionError\u001b[0m                            Traceback (most recent call last)",
      "Cell \u001b[0;32mIn [17], line 1\u001b[0m\n\u001b[0;32m----> 1\u001b[0m \u001b[38;5;28;01massert\u001b[39;00m ([\u001b[38;5;241m10\u001b[39m,\u001b[38;5;241m11\u001b[39m] \u001b[38;5;241m==\u001b[39m [\u001b[38;5;241m11\u001b[39m,\u001b[38;5;241m10\u001b[39m]), \u001b[38;5;124m'\u001b[39m\u001b[38;5;124mtwo list are the identical\u001b[39m\u001b[38;5;124m'\u001b[39m\n",
      "\u001b[0;31mAssertionError\u001b[0m: two list are the identical"
     ]
    }
   ],
   "source": [
    "assert ([10,11] == [11,10]), 'two list are the identical'"
   ]
  },
  {
   "cell_type": "markdown",
   "id": "cb15458e",
   "metadata": {},
   "source": [
    "## Starting index is 0"
   ]
  },
  {
   "cell_type": "code",
   "execution_count": null,
   "id": "2d7c05ea",
   "metadata": {},
   "outputs": [
    {
     "name": "stdout",
     "output_type": "stream",
     "text": [
      "0\n"
     ]
    }
   ],
   "source": [
    "myList = ['zero', 'one', 'two']\n",
    "index = myList.index('zero')\n",
    "print(index)"
   ]
  },
  {
   "cell_type": "markdown",
   "id": "24761aa2",
   "metadata": {},
   "source": [
    "## Items are accessible via index"
   ]
  },
  {
   "cell_type": "code",
   "execution_count": null,
   "id": "3f87ae50",
   "metadata": {},
   "outputs": [
    {
     "name": "stdout",
     "output_type": "stream",
     "text": [
      "food bus apple queen\n"
     ]
    }
   ],
   "source": [
    "stuff = ['food', 'bus', 'apple', 'queen']\n",
    "print(stuff[0], stuff[1], stuff[2], stuff[3])"
   ]
  },
  {
   "cell_type": "markdown",
   "id": "9f0440de",
   "metadata": {},
   "source": [
    "## Lists are dynamic"
   ]
  },
  {
   "cell_type": "markdown",
   "id": "6111a8bd",
   "metadata": {},
   "source": [
    "Append an item to next index:"
   ]
  },
  {
   "cell_type": "code",
   "execution_count": 18,
   "id": "5fd0de94",
   "metadata": {},
   "outputs": [
    {
     "name": "stdout",
     "output_type": "stream",
     "text": [
      "[0, 10, 20, 30, 40, 50]\n",
      "[0, 10, 20, 30, 40, 50, 60]\n"
     ]
    }
   ],
   "source": [
    "a = [0, 10, 20, 30, 40, 50]\n",
    "print(a)\n",
    "a += [60]\n",
    "print(a)"
   ]
  },
  {
   "cell_type": "markdown",
   "id": "83dbdffb",
   "metadata": {},
   "source": [
    "Delete index 1\n"
   ]
  },
  {
   "cell_type": "code",
   "execution_count": 24,
   "id": "26833ec0",
   "metadata": {},
   "outputs": [
    {
     "name": "stdout",
     "output_type": "stream",
     "text": [
      "[0, 10, 20, 30, 40, 50, 60]\n",
      "[0, 20, 30, 40, 50, 60]\n"
     ]
    }
   ],
   "source": [
    "a = [0, 10, 20, 30, 40, 50, 60]\n",
    "print(a)\n",
    "del a[1]\n",
    "print(a)"
   ]
  },
  {
   "cell_type": "markdown",
   "id": "278f82c8",
   "metadata": {},
   "source": [
    "Sclice out item from index `3` to index `5-1`.\n",
    "\n",
    "Note that it is written as `[3:5]`, meaning from index `3` to index `5`, include `3` but exclude `5`."
   ]
  },
  {
   "cell_type": "code",
   "execution_count": 22,
   "id": "b9d75647",
   "metadata": {},
   "outputs": [
    {
     "name": "stdout",
     "output_type": "stream",
     "text": [
      "[0, 10, 20, 30, 40, 50, 60]\n",
      "[0, 10, 20, 50, 60]\n"
     ]
    }
   ],
   "source": [
    "b = [0, 10, 20, 30, 40, 50, 60]\n",
    "print(b)\n",
    "b[3:5] = []\n",
    "print(b)"
   ]
  },
  {
   "cell_type": "markdown",
   "id": "6a94c9b2",
   "metadata": {},
   "source": [
    "### Duplicated value are allow"
   ]
  },
  {
   "cell_type": "code",
   "execution_count": 23,
   "id": "eee57d21",
   "metadata": {},
   "outputs": [
    {
     "name": "stdout",
     "output_type": "stream",
     "text": [
      "[0, 0, 0, 0]\n"
     ]
    }
   ],
   "source": [
    "c = [0, 0, 0, 0]\n",
    "print(c)"
   ]
  }
 ],
 "metadata": {
  "kernelspec": {
   "display_name": "Python 3.10.8 ('.venv': pipenv)",
   "language": "python",
   "name": "python3"
  },
  "language_info": {
   "codemirror_mode": {
    "name": "ipython",
    "version": 3
   },
   "file_extension": ".py",
   "mimetype": "text/x-python",
   "name": "python",
   "nbconvert_exporter": "python",
   "pygments_lexer": "ipython3",
   "version": "3.10.8"
  },
  "vscode": {
   "interpreter": {
    "hash": "724117ccc7a3d593d1d63c5cebd1b2308cd0301134731f7708559b60ab16fbd1"
   }
  }
 },
 "nbformat": 4,
 "nbformat_minor": 5
}
