{
 "cells": [
  {
   "cell_type": "markdown",
   "metadata": {},
   "source": [
    "# Add and remove item from list"
   ]
  },
  {
   "cell_type": "markdown",
   "metadata": {},
   "source": [
    "## Summary: \n",
    "\n",
    "| code | description |\n",
    "| ------ | ----- |\n",
    "| `List.append(«item-value») ==> None` | append an item to a list |\n",
    "| `List.insert(«index», «item-value») ==> None` | insert an item at index |\n",
    "| `del List(«index»)` | delete an item by index |\n",
    "| `List.pop() ==> «item-value»` | pop the last item |\n",
    "| `List.pop(«index») ==> «item-value»` | extract (or pop) an item by index |\n",
    "| `List.remove(«item value») ==> None` | remove an item by value  |\n"
   ]
  },
  {
   "cell_type": "markdown",
   "metadata": {},
   "source": [
    "## Append an item to a list\n",
    "\n",
    "`List.append(«item-value»)`"
   ]
  },
  {
   "cell_type": "code",
   "execution_count": 1,
   "metadata": {},
   "outputs": [
    {
     "name": "stdout",
     "output_type": "stream",
     "text": [
      "[1, 2, 3]\n",
      "None\n",
      "[1, 2, 3, 'a']\n"
     ]
    }
   ],
   "source": [
    "a = [1,2,3]\n",
    "print(a)\n",
    "print(a.append('a'))\n",
    "print(a)"
   ]
  },
  {
   "cell_type": "markdown",
   "metadata": {},
   "source": [
    "## Insert an item by index\n",
    "\n",
    "`List.insert(«index», «item value»)`\n",
    "\n",
    "This will open a space at index, and set the new item value."
   ]
  },
  {
   "cell_type": "code",
   "execution_count": 3,
   "metadata": {},
   "outputs": [
    {
     "name": "stdout",
     "output_type": "stream",
     "text": [
      "[0, 10, 20, 30]\n",
      "None\n",
      "[0, 10, 'new', 20, 30]\n"
     ]
    }
   ],
   "source": [
    "a = [0,10,20,30]\n",
    "print(a)\n",
    "print(a.insert(2, 'new'))\n",
    "print(a)"
   ]
  },
  {
   "cell_type": "markdown",
   "metadata": {},
   "source": [
    "## Delete an item by index\n",
    "\n",
    "`del List(«index»)`"
   ]
  },
  {
   "cell_type": "code",
   "execution_count": 4,
   "metadata": {},
   "outputs": [
    {
     "name": "stdout",
     "output_type": "stream",
     "text": [
      "[0, 10, 20, 30]\n",
      "[0, 20, 30]\n"
     ]
    }
   ],
   "source": [
    "a = [0,10,20,30]\n",
    "print(a)\n",
    "del a[1]\n",
    "print(a)"
   ]
  },
  {
   "cell_type": "markdown",
   "metadata": {},
   "source": [
    "## Pop the last item\n",
    "\n",
    "`lastItem = List.pop()`"
   ]
  },
  {
   "cell_type": "code",
   "execution_count": 5,
   "metadata": {},
   "outputs": [
    {
     "name": "stdout",
     "output_type": "stream",
     "text": [
      "[0, 10, 20, 30]\n",
      "30\n",
      "[0, 10, 20]\n"
     ]
    }
   ],
   "source": [
    "a = [0,10,20,30]\n",
    "print(a)\n",
    "print(a.pop())\n",
    "print(a)\n"
   ]
  },
  {
   "cell_type": "markdown",
   "metadata": {},
   "source": [
    "## Extract (or pop) an item by index\n",
    "\n",
    "`List.pop(«index»)`"
   ]
  },
  {
   "cell_type": "code",
   "execution_count": 6,
   "metadata": {},
   "outputs": [
    {
     "name": "stdout",
     "output_type": "stream",
     "text": [
      "[0, 10, 20, 30]\n",
      "10\n",
      "[0, 20, 30]\n"
     ]
    }
   ],
   "source": [
    "a = [0,10,20,30]\n",
    "print(a)\n",
    "print(a.pop(1))\n",
    "print(a)"
   ]
  },
  {
   "cell_type": "markdown",
   "metadata": {},
   "source": [
    "## Remove an item by value \n",
    "\n",
    "`List.remove(«item-value»)`\n",
    "\n",
    ":warning: This only remove the first occurance of value in the list. "
   ]
  },
  {
   "cell_type": "code",
   "execution_count": 8,
   "metadata": {},
   "outputs": [
    {
     "name": "stdout",
     "output_type": "stream",
     "text": [
      "[0, 10, 20, 30, 10]\n",
      "None\n",
      "[0, 20, 30, 10]\n"
     ]
    }
   ],
   "source": [
    "a = [0,10,20,30,10]\n",
    "print(a)\n",
    "print(a.remove(10))\n",
    "print(a)\n"
   ]
  }
 ],
 "metadata": {
  "kernelspec": {
   "display_name": "Python 3.10.8 ('.venv': pipenv)",
   "language": "python",
   "name": "python3"
  },
  "language_info": {
   "codemirror_mode": {
    "name": "ipython",
    "version": 3
   },
   "file_extension": ".py",
   "mimetype": "text/x-python",
   "name": "python",
   "nbconvert_exporter": "python",
   "pygments_lexer": "ipython3",
   "version": "3.10.8"
  },
  "orig_nbformat": 4,
  "vscode": {
   "interpreter": {
    "hash": "724117ccc7a3d593d1d63c5cebd1b2308cd0301134731f7708559b60ab16fbd1"
   }
  }
 },
 "nbformat": 4,
 "nbformat_minor": 2
}
