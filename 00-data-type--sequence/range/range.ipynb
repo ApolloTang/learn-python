{
 "cells": [
  {
   "cell_type": "markdown",
   "id": "e69294e8",
   "metadata": {},
   "source": [
    "# Sequences\n",
    "\n",
    "There are 4 basic sequence types:\n",
    "- string\n",
    "- range\n",
    "- lists\n",
    "- tuples"
   ]
  },
  {
   "cell_type": "markdown",
   "id": "77f0221d",
   "metadata": {},
   "source": [
    "## Range\n",
    "\n",
    "- immutable sequence of numbers.\n",
    "- used in  `for` and `while` loops.\n",
    "- "
   ]
  },
  {
   "cell_type": "code",
   "execution_count": null,
   "id": "55ebd3e6",
   "metadata": {},
   "outputs": [],
   "source": []
  }
 ],
 "metadata": {
  "kernelspec": {
   "display_name": "Python 3 (ipykernel)",
   "language": "python",
   "name": "python3"
  },
  "language_info": {
   "codemirror_mode": {
    "name": "ipython",
    "version": 3
   },
   "file_extension": ".py",
   "mimetype": "text/x-python",
   "name": "python",
   "nbconvert_exporter": "python",
   "pygments_lexer": "ipython3",
   "version": "3.10.8"
  },
  "vscode": {
   "interpreter": {
    "hash": "0b69a53e8434de7292e7e18ce1c1ed8666253f84b33cf5b0dee3c9e89fd9c156"
   }
  }
 },
 "nbformat": 4,
 "nbformat_minor": 5
}
