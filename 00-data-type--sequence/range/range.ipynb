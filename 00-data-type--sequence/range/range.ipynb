{
 "cells": [
  {
   "cell_type": "markdown",
   "id": "77f0221d",
   "metadata": {},
   "source": [
    "# Range\n",
    "\n",
    "- immutable sequence of numbers.\n",
    "- used in  `for` and `while` loops.\n",
    "\n",
    "## Syntax:\n",
    "```\n",
    "Range(\n",
    "    [«start (include)»,] \n",
    "    «end (exclude)» \n",
    "    [, «step-size»]\n",
    ") \n",
    "```"
   ]
  },
  {
   "cell_type": "markdown",
   "id": "40b03b17",
   "metadata": {},
   "source": [
    "## Usage:\n",
    "\n",
    "Range by itself is not useful, you can't see what is inside: "
   ]
  },
  {
   "cell_type": "code",
   "execution_count": 10,
   "id": "55ebd3e6",
   "metadata": {},
   "outputs": [
    {
     "name": "stdout",
     "output_type": "stream",
     "text": [
      "range(1, 4)\n"
     ]
    }
   ],
   "source": [
    "print(range(1,4))"
   ]
  },
  {
   "cell_type": "markdown",
   "id": "2547ff1f",
   "metadata": {},
   "source": [
    "## Use with loop\n",
    "\n",
    "It is use with loop:"
   ]
  },
  {
   "cell_type": "code",
   "execution_count": 11,
   "id": "1c330fb4",
   "metadata": {},
   "outputs": [
    {
     "name": "stdout",
     "output_type": "stream",
     "text": [
      "1\n",
      "2\n"
     ]
    }
   ],
   "source": [
    "for value in range(1, 3):\n",
    "    print(value)"
   ]
  },
  {
   "cell_type": "markdown",
   "id": "b672ffda",
   "metadata": {},
   "source": [
    "## Use Range to make list\n",
    "\n",
    "It can be used to make a list:"
   ]
  },
  {
   "cell_type": "code",
   "execution_count": 12,
   "id": "62ae4fb4",
   "metadata": {},
   "outputs": [
    {
     "name": "stdout",
     "output_type": "stream",
     "text": [
      "[1, 2, 3, 4, 5]\n"
     ]
    }
   ],
   "source": [
    "oneToFive = list(range(1,6))\n",
    "print(oneToFive)"
   ]
  },
  {
   "cell_type": "markdown",
   "id": "bce4963d",
   "metadata": {},
   "source": [
    "## Range with step size"
   ]
  },
  {
   "cell_type": "code",
   "execution_count": 13,
   "id": "2bd5aab8",
   "metadata": {},
   "outputs": [
    {
     "name": "stdout",
     "output_type": "stream",
     "text": [
      "[0, 10, 20, 30, 40]\n",
      "[0, 5, 10, 15, 20, 25, 30, 35, 40, 45]\n"
     ]
    }
   ],
   "source": [
    "print(list(range(0,50,10)))\n",
    "\n",
    "print(list(range(0,50,5)))"
   ]
  },
  {
   "cell_type": "markdown",
   "id": "7a1db1d3",
   "metadata": {},
   "source": [
    "## Range can be called with one arguments\n",
    "\n",
    "Then the start is default to 0\n"
   ]
  },
  {
   "cell_type": "code",
   "execution_count": 14,
   "id": "3fe44394",
   "metadata": {},
   "outputs": [
    {
     "name": "stdout",
     "output_type": "stream",
     "text": [
      "[0, 1, 2]\n",
      "[0, 1, 2]\n"
     ]
    }
   ],
   "source": [
    "print(list(range(3)))\n",
    "print(list(range(0,3,1)))"
   ]
  },
  {
   "cell_type": "markdown",
   "id": "038d47ca",
   "metadata": {},
   "source": [
    "The above two statements are identical."
   ]
  }
 ],
 "metadata": {
  "kernelspec": {
   "display_name": "Python 3.10.8 ('.venv': pipenv)",
   "language": "python",
   "name": "python3"
  },
  "language_info": {
   "codemirror_mode": {
    "name": "ipython",
    "version": 3
   },
   "file_extension": ".py",
   "mimetype": "text/x-python",
   "name": "python",
   "nbconvert_exporter": "python",
   "pygments_lexer": "ipython3",
   "version": "3.10.8 (main, Oct 13 2022, 10:17:43) [Clang 14.0.0 (clang-1400.0.29.102)]"
  },
  "vscode": {
   "interpreter": {
    "hash": "724117ccc7a3d593d1d63c5cebd1b2308cd0301134731f7708559b60ab16fbd1"
   }
  }
 },
 "nbformat": 4,
 "nbformat_minor": 5
}
