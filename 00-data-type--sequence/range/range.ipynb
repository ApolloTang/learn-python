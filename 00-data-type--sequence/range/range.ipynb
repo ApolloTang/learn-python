{
 "cells": [
  {
   "cell_type": "markdown",
   "id": "e69294e8",
   "metadata": {},
   "source": [
    "# Sequences\n",
    "\n",
    "There are 4 basic sequence types:\n",
    "- string\n",
    "- range\n",
    "- lists\n",
    "- tuples"
   ]
  },
  {
   "cell_type": "markdown",
   "id": "77f0221d",
   "metadata": {},
   "source": [
    "## Range\n",
    "\n",
    "- immutable sequence of numbers.\n",
    "- used in  `for` and `while` loops.\n",
    "- "
   ]
  },
  {
   "cell_type": "code",
   "execution_count": 2,
   "id": "55ebd3e6",
   "metadata": {},
   "outputs": [
    {
     "name": "stdout",
     "output_type": "stream",
     "text": [
      "range(1, 4)\n",
      "range(1, 4)\n"
     ]
    }
   ],
   "source": [
    "print(range(1,4))\n",
    "print(a)"
   ]
  },
  {
   "cell_type": "markdown",
   "id": "2547ff1f",
   "metadata": {},
   "source": [
    "## Using range with for-loop"
   ]
  },
  {
   "cell_type": "code",
   "execution_count": 3,
   "id": "1c330fb4",
   "metadata": {},
   "outputs": [
    {
     "name": "stdout",
     "output_type": "stream",
     "text": [
      "1\n",
      "2\n",
      "3\n",
      "4\n"
     ]
    }
   ],
   "source": [
    "for value in range(1, 5):\n",
    "    print(value)"
   ]
  },
  {
   "cell_type": "markdown",
   "id": "b672ffda",
   "metadata": {},
   "source": [
    "## Using range to make a list"
   ]
  },
  {
   "cell_type": "code",
   "execution_count": 4,
   "id": "62ae4fb4",
   "metadata": {},
   "outputs": [
    {
     "name": "stdout",
     "output_type": "stream",
     "text": [
      "[1, 2, 3, 4, 5]\n"
     ]
    }
   ],
   "source": [
    "oneToFive = list(range(1,6))\n",
    "print(oneToFive)"
   ]
  },
  {
   "cell_type": "markdown",
   "id": "bce4963d",
   "metadata": {},
   "source": [
    "## Range with step size"
   ]
  },
  {
   "cell_type": "code",
   "execution_count": 7,
   "id": "2bd5aab8",
   "metadata": {},
   "outputs": [
    {
     "name": "stdout",
     "output_type": "stream",
     "text": [
      "[0, 10, 20, 30, 40]\n",
      "[0, 5, 10, 15, 20, 25, 30, 35, 40, 45]\n"
     ]
    }
   ],
   "source": [
    "print(list(range(0,50,10)))\n",
    "\n",
    "print(list(range(0,50,5)))"
   ]
  }
 ],
 "metadata": {
  "kernelspec": {
   "display_name": "Python 3.10.8 ('.venv': pipenv)",
   "language": "python",
   "name": "python3"
  },
  "language_info": {
   "codemirror_mode": {
    "name": "ipython",
    "version": 3
   },
   "file_extension": ".py",
   "mimetype": "text/x-python",
   "name": "python",
   "nbconvert_exporter": "python",
   "pygments_lexer": "ipython3",
   "version": "3.10.8"
  },
  "vscode": {
   "interpreter": {
    "hash": "724117ccc7a3d593d1d63c5cebd1b2308cd0301134731f7708559b60ab16fbd1"
   }
  }
 },
 "nbformat": 4,
 "nbformat_minor": 5
}
